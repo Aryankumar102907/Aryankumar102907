{
  "metadata": {
    "kernelspec": {
      "language": "python",
      "display_name": "Python 3",
      "name": "python3"
    },
    "language_info": {
      "name": "python",
      "version": "3.10.14",
      "mimetype": "text/x-python",
      "codemirror_mode": {
        "name": "ipython",
        "version": 3
      },
      "pygments_lexer": "ipython3",
      "nbconvert_exporter": "python",
      "file_extension": ".py"
    },
    "kaggle": {
      "accelerator": "none",
      "dataSources": [
        {
          "sourceId": 3004,
          "databundleVersionId": 861823,
          "sourceType": "competition"
        }
      ],
      "dockerImageVersionId": 30804,
      "isInternetEnabled": false,
      "language": "python",
      "sourceType": "notebook",
      "isGpuEnabled": false
    },
    "colab": {
      "name": "2 Neuron Neural Network from scratch",
      "provenance": [],
      "include_colab_link": true
    }
  },
  "nbformat_minor": 0,
  "nbformat": 4,
  "cells": [
    {
      "cell_type": "markdown",
      "metadata": {
        "id": "view-in-github",
        "colab_type": "text"
      },
      "source": [
        "<a href=\"https://colab.research.google.com/github/Aryankumar102907/Aryankumar102907/blob/main/2_Neuron_Neural_Network_from_scratch.ipynb\" target=\"_parent\"><img src=\"https://colab.research.google.com/assets/colab-badge.svg\" alt=\"Open In Colab\"/></a>"
      ]
    },
    {
      "source": [
        "# IMPORTANT: SOME KAGGLE DATA SOURCES ARE PRIVATE\n",
        "# RUN THIS CELL IN ORDER TO IMPORT YOUR KAGGLE DATA SOURCES.\n",
        "import kagglehub\n",
        "kagglehub.login()\n"
      ],
      "metadata": {
        "id": "-Y28v9fAEoT7"
      },
      "cell_type": "code",
      "outputs": [],
      "execution_count": null
    },
    {
      "source": [
        "# IMPORTANT: RUN THIS CELL IN ORDER TO IMPORT YOUR KAGGLE DATA SOURCES,\n",
        "# THEN FEEL FREE TO DELETE THIS CELL.\n",
        "# NOTE: THIS NOTEBOOK ENVIRONMENT DIFFERS FROM KAGGLE'S PYTHON\n",
        "# ENVIRONMENT SO THERE MAY BE MISSING LIBRARIES USED BY YOUR\n",
        "# NOTEBOOK.\n",
        "\n",
        "digit_recognizer_path = kagglehub.competition_download('digit-recognizer')\n",
        "\n",
        "print('Data source import complete.')\n"
      ],
      "metadata": {
        "id": "TnHBr2IMEoT-"
      },
      "cell_type": "code",
      "outputs": [],
      "execution_count": null
    },
    {
      "cell_type": "code",
      "source": [
        "# This Python 3 environment comes with many helpful analytics libraries installed\n",
        "# It is defined by the kaggle/python Docker image: https://github.com/kaggle/docker-python\n",
        "# For example, here's several helpful packages to load\n",
        "\n",
        "import numpy as np # linear algebra\n",
        "import pandas as pd # data processing, CSV file I/O (e.g. pd.read_csv)\n",
        "\n",
        "# Input data files are available in the read-only \"../input/\" directory\n",
        "# For example, running this (by clicking run or pressing Shift+Enter) will list all files under the input directory\n",
        "\n",
        "import os\n",
        "for dirname, _, filenames in os.walk('/kaggle/input'):\n",
        "    for filename in filenames:\n",
        "        print(os.path.join(dirname, filename))\n",
        "\n",
        "# You can write up to 20GB to the current directory (/kaggle/working/) that gets preserved as output when you create a version using \"Save & Run All\"\n",
        "# You can also write temporary files to /kaggle/temp/, but they won't be saved outside of the current session"
      ],
      "metadata": {
        "_uuid": "8f2839f25d086af736a60e9eeb907d3b93b6e0e5",
        "_cell_guid": "b1076dfc-b9ad-4769-8c92-a6c4dae69d19",
        "trusted": true,
        "execution": {
          "iopub.status.busy": "2024-12-06T08:12:59.82495Z",
          "iopub.execute_input": "2024-12-06T08:12:59.825453Z",
          "iopub.status.idle": "2024-12-06T08:12:59.833663Z",
          "shell.execute_reply.started": "2024-12-06T08:12:59.825416Z",
          "shell.execute_reply": "2024-12-06T08:12:59.832546Z"
        },
        "id": "FiSYYsYFEoT-",
        "outputId": "c4a2d453-65ee-4a28-9675-8a7eceb5e06b"
      },
      "outputs": [
        {
          "name": "stdout",
          "text": "/kaggle/input/digit-recognizer/sample_submission.csv\n/kaggle/input/digit-recognizer/train.csv\n/kaggle/input/digit-recognizer/test.csv\n",
          "output_type": "stream"
        }
      ],
      "execution_count": null
    },
    {
      "cell_type": "code",
      "source": [
        "import numpy as np\n",
        "import pandas as pd\n",
        "from matplotlib import pyplot as plt"
      ],
      "metadata": {
        "trusted": true,
        "execution": {
          "iopub.status.busy": "2024-12-06T08:12:59.835755Z",
          "iopub.execute_input": "2024-12-06T08:12:59.836207Z",
          "iopub.status.idle": "2024-12-06T08:12:59.845535Z",
          "shell.execute_reply.started": "2024-12-06T08:12:59.836157Z",
          "shell.execute_reply": "2024-12-06T08:12:59.844321Z"
        },
        "id": "rgZatkypEoT_"
      },
      "outputs": [],
      "execution_count": null
    },
    {
      "cell_type": "code",
      "source": [
        "data = pd.read_csv('/kaggle/input/digit-recognizer/train.csv')"
      ],
      "metadata": {
        "trusted": true,
        "execution": {
          "iopub.status.busy": "2024-12-06T08:12:59.847237Z",
          "iopub.execute_input": "2024-12-06T08:12:59.847583Z",
          "iopub.status.idle": "2024-12-06T08:13:02.138855Z",
          "shell.execute_reply.started": "2024-12-06T08:12:59.847552Z",
          "shell.execute_reply": "2024-12-06T08:13:02.137695Z"
        },
        "id": "fT-YNXEuEoUA"
      },
      "outputs": [],
      "execution_count": null
    },
    {
      "cell_type": "code",
      "source": [
        "data = np.array(data)\n",
        "m, n = data.shape\n",
        "np.random.shuffle(data) # shuffle before splitting into dev and training sets\n",
        "\n",
        "data_dev = data[0:1000].T\n",
        "Y_dev = data_dev[0]\n",
        "X_dev = data_dev[1:n]\n",
        "X_dev = X_dev / 255.\n",
        "\n",
        "data_train = data[1000:m].T\n",
        "Y_train = data_train[0]\n",
        "X_train = data_train[1:n]\n",
        "X_train = X_train / 255.\n",
        "_,m_train = X_train.shape"
      ],
      "metadata": {
        "trusted": true,
        "execution": {
          "iopub.status.busy": "2024-12-06T08:13:02.141034Z",
          "iopub.execute_input": "2024-12-06T08:13:02.141389Z",
          "iopub.status.idle": "2024-12-06T08:13:02.957902Z",
          "shell.execute_reply.started": "2024-12-06T08:13:02.141356Z",
          "shell.execute_reply": "2024-12-06T08:13:02.956854Z"
        },
        "id": "CfcHo_YoEoUA"
      },
      "outputs": [],
      "execution_count": null
    },
    {
      "cell_type": "code",
      "source": [
        "Y_train"
      ],
      "metadata": {
        "trusted": true,
        "execution": {
          "iopub.status.busy": "2024-12-06T08:13:02.95921Z",
          "iopub.execute_input": "2024-12-06T08:13:02.959576Z",
          "iopub.status.idle": "2024-12-06T08:13:02.966556Z",
          "shell.execute_reply.started": "2024-12-06T08:13:02.95954Z",
          "shell.execute_reply": "2024-12-06T08:13:02.965632Z"
        },
        "id": "DjwqbI7lEoUA",
        "outputId": "a37e1617-0993-4986-85b7-307e8f5faa49"
      },
      "outputs": [
        {
          "execution_count": 111,
          "output_type": "execute_result",
          "data": {
            "text/plain": "array([2, 0, 6, ..., 0, 2, 6])"
          },
          "metadata": {}
        }
      ],
      "execution_count": null
    },
    {
      "cell_type": "code",
      "source": [
        "def init_params():\n",
        "    W1 = np.random.rand(10, 784) - 0.5\n",
        "    b1 = np.random.rand(10, 1) - 0.5\n",
        "    W2 = np.random.rand(10, 10) - 0.5\n",
        "    b2 = np.random.rand(10, 1) - 0.5\n",
        "    return W1, b1, W2, b2\n",
        "\n",
        "def ReLU(Z):\n",
        "    return np.maximum(Z, 0)\n",
        "\n",
        "def softmax(Z):\n",
        "    A = np.exp(Z) / sum(np.exp(Z))\n",
        "    return A\n",
        "\n",
        "def forward_prop(W1, b1, W2, b2, X):\n",
        "    Z1 = W1.dot(X) + b1\n",
        "    A1 = ReLU(Z1)\n",
        "    Z2 = W2.dot(A1) + b2\n",
        "    A2 = softmax(Z2)\n",
        "    return Z1, A1, Z2, A2\n",
        "\n",
        "def ReLU_deriv(Z):\n",
        "    return Z > 0\n",
        "\n",
        "def one_hot(Y):\n",
        "    one_hot_Y = np.zeros((Y.size, Y.max() + 1))\n",
        "    one_hot_Y[np.arange(Y.size), Y] = 1\n",
        "    one_hot_Y = one_hot_Y.T\n",
        "    return one_hot_Y\n",
        "\n",
        "def backward_prop(Z1, A1, Z2, A2, W1, W2, X, Y):\n",
        "    one_hot_Y = one_hot(Y)\n",
        "    dZ2 = A2 - one_hot_Y\n",
        "    dW2 = 1 / m * dZ2.dot(A1.T)\n",
        "    db2 = 1 / m * np.sum(dZ2)\n",
        "    dZ1 = W2.T.dot(dZ2) * ReLU_deriv(Z1)\n",
        "    dW1 = 1 / m * dZ1.dot(X.T)\n",
        "    db1 = 1 / m * np.sum(dZ1)\n",
        "    return dW1, db1, dW2, db2\n",
        "\n",
        "def update_params(W1, b1, W2, b2, dW1, db1, dW2, db2, alpha):\n",
        "    W1 = W1 - alpha * dW1\n",
        "    b1 = b1 - alpha * db1\n",
        "    W2 = W2 - alpha * dW2\n",
        "    b2 = b2 - alpha * db2\n",
        "    return W1, b1, W2, b2"
      ],
      "metadata": {
        "trusted": true,
        "execution": {
          "iopub.status.busy": "2024-12-06T08:13:02.968057Z",
          "iopub.execute_input": "2024-12-06T08:13:02.968508Z",
          "iopub.status.idle": "2024-12-06T08:13:02.982319Z",
          "shell.execute_reply.started": "2024-12-06T08:13:02.968459Z",
          "shell.execute_reply": "2024-12-06T08:13:02.981045Z"
        },
        "id": "86Q8FKelEoUA"
      },
      "outputs": [],
      "execution_count": null
    },
    {
      "cell_type": "code",
      "source": [
        "def get_predictions(A2):\n",
        "    return np.argmax(A2, 0)\n",
        "\n",
        "def get_accuracy(predictions, Y):\n",
        "    print(predictions, Y)\n",
        "    return np.sum(predictions == Y) / Y.size\n",
        "\n",
        "def gradient_descent(X, Y, alpha, iterations):\n",
        "    W1, b1, W2, b2 = init_params()\n",
        "    for i in range(iterations):\n",
        "        Z1, A1, Z2, A2 = forward_prop(W1, b1, W2, b2, X)\n",
        "        dW1, db1, dW2, db2 = backward_prop(Z1, A1, Z2, A2, W1, W2, X, Y)\n",
        "        W1, b1, W2, b2 = update_params(W1, b1, W2, b2, dW1, db1, dW2, db2, alpha)\n",
        "        if i % 50 == 0:\n",
        "            print(\"Iteration: \", i)\n",
        "            predictions = get_predictions(A2)\n",
        "            print(get_accuracy(predictions, Y))\n",
        "    return W1, b1, W2, b2"
      ],
      "metadata": {
        "trusted": true,
        "execution": {
          "iopub.status.busy": "2024-12-06T08:13:02.983595Z",
          "iopub.execute_input": "2024-12-06T08:13:02.983963Z",
          "iopub.status.idle": "2024-12-06T08:13:02.997138Z",
          "shell.execute_reply.started": "2024-12-06T08:13:02.983928Z",
          "shell.execute_reply": "2024-12-06T08:13:02.995989Z"
        },
        "id": "X8jsxLwTEoUB"
      },
      "outputs": [],
      "execution_count": null
    },
    {
      "cell_type": "code",
      "source": [
        "W1, b1, W2, b2 = gradient_descent(X_train, Y_train, 0.2, 550)"
      ],
      "metadata": {
        "trusted": true,
        "execution": {
          "iopub.status.busy": "2024-12-06T08:13:02.998386Z",
          "iopub.execute_input": "2024-12-06T08:13:02.998763Z",
          "iopub.status.idle": "2024-12-06T08:14:08.196858Z",
          "shell.execute_reply.started": "2024-12-06T08:13:02.99871Z",
          "shell.execute_reply": "2024-12-06T08:14:08.195621Z"
        },
        "id": "YvsARFf7EoUB",
        "outputId": "d876016d-1147-4599-feba-129250fef0ef"
      },
      "outputs": [
        {
          "name": "stdout",
          "text": "Iteration:  0\n[1 7 5 ... 2 1 5] [2 0 6 ... 0 2 6]\n0.08958536585365853\nIteration:  50\n[2 0 5 ... 0 6 6] [2 0 6 ... 0 2 6]\n0.6851951219512196\nIteration:  100\n[2 0 5 ... 0 6 6] [2 0 6 ... 0 2 6]\n0.788609756097561\nIteration:  150\n[2 0 5 ... 0 6 6] [2 0 6 ... 0 2 6]\n0.8186341463414634\nIteration:  200\n[2 0 6 ... 0 6 6] [2 0 6 ... 0 2 6]\n0.8376097560975609\nIteration:  250\n[2 0 6 ... 0 6 6] [2 0 6 ... 0 2 6]\n0.8508780487804878\nIteration:  300\n[2 0 6 ... 0 6 6] [2 0 6 ... 0 2 6]\n0.8613658536585366\nIteration:  350\n[2 0 6 ... 0 6 6] [2 0 6 ... 0 2 6]\n0.8685853658536585\nIteration:  400\n[2 0 6 ... 0 2 6] [2 0 6 ... 0 2 6]\n0.8745121951219512\nIteration:  450\n[2 0 6 ... 0 2 6] [2 0 6 ... 0 2 6]\n0.879219512195122\nIteration:  500\n[2 0 6 ... 0 2 6] [2 0 6 ... 0 2 6]\n0.8836341463414634\n",
          "output_type": "stream"
        }
      ],
      "execution_count": null
    },
    {
      "cell_type": "code",
      "source": [
        "def make_predictions(X, W1, b1, W2, b2):\n",
        "    _, _, _, A2 = forward_prop(W1, b1, W2, b2, X)\n",
        "    predictions = get_predictions(A2)\n",
        "    return predictions\n",
        "\n",
        "def test_prediction(index, W1, b1, W2, b2):\n",
        "    current_image = X_train[:, index, None]\n",
        "    prediction = make_predictions(X_train[:, index, None], W1, b1, W2, b2)\n",
        "    label = Y_train[index]\n",
        "    print(\"Prediction: \", prediction)\n",
        "    print(\"Label: \", label)\n",
        "\n",
        "    current_image = current_image.reshape((28, 28)) * 255\n",
        "    plt.gray()\n",
        "    plt.imshow(current_image, interpolation='nearest')\n",
        "    plt.show()"
      ],
      "metadata": {
        "trusted": true,
        "execution": {
          "iopub.status.busy": "2024-12-06T08:14:08.208281Z",
          "iopub.execute_input": "2024-12-06T08:14:08.212149Z",
          "iopub.status.idle": "2024-12-06T08:14:08.230629Z",
          "shell.execute_reply.started": "2024-12-06T08:14:08.212048Z",
          "shell.execute_reply": "2024-12-06T08:14:08.229177Z"
        },
        "id": "235ErqRjEoUB"
      },
      "outputs": [],
      "execution_count": null
    },
    {
      "cell_type": "code",
      "source": [
        "dev_predictions = make_predictions(X_dev, W1, b1, W2, b2)\n",
        "get_accuracy(dev_predictions, Y_dev)"
      ],
      "metadata": {
        "trusted": true,
        "execution": {
          "iopub.status.busy": "2024-12-06T08:14:08.239715Z",
          "iopub.execute_input": "2024-12-06T08:14:08.240389Z",
          "iopub.status.idle": "2024-12-06T08:14:08.275602Z",
          "shell.execute_reply.started": "2024-12-06T08:14:08.240321Z",
          "shell.execute_reply": "2024-12-06T08:14:08.27373Z"
        },
        "id": "3rRt3vl8EoUB",
        "outputId": "f1a6c5e2-6d96-4ab0-f5c5-cc284ebb79f4"
      },
      "outputs": [
        {
          "name": "stdout",
          "text": "[9 9 4 8 6 4 1 9 9 4 9 0 5 5 0 4 7 4 3 6 2 3 1 2 7 7 5 1 8 3 8 9 2 9 4 1 5\n 1 7 8 7 6 5 8 6 0 9 8 2 9 8 4 5 2 1 8 3 7 9 6 8 3 0 5 9 2 7 5 3 1 3 2 1 5\n 5 5 8 7 7 1 3 9 4 7 9 7 8 3 0 1 9 0 0 3 2 2 6 5 3 1 7 6 2 5 3 4 9 8 7 1 4\n 0 8 0 1 2 8 3 3 3 0 0 3 7 1 6 1 1 7 6 3 1 5 6 0 8 8 4 7 3 9 5 0 3 0 8 5 8\n 6 7 5 0 2 3 9 9 7 7 2 3 6 5 2 8 1 6 7 5 8 1 7 3 7 4 2 9 5 8 6 4 1 6 1 3 7\n 0 3 7 4 5 0 1 4 0 2 9 9 8 4 6 8 9 0 1 7 6 6 5 9 5 6 6 9 1 4 6 4 6 8 7 9 3\n 9 1 9 3 5 0 6 0 8 1 6 6 3 8 7 6 6 4 6 3 3 7 7 0 7 9 1 8 8 8 8 0 4 0 9 8 1\n 6 8 2 0 3 3 6 6 7 6 7 5 0 5 0 6 4 2 7 5 5 9 9 3 6 0 6 5 0 2 3 7 4 2 8 6 8\n 1 4 1 5 4 2 5 4 3 8 8 0 3 8 0 1 0 8 6 7 9 4 8 5 5 5 2 0 2 4 7 0 1 8 7 5 5\n 3 0 1 0 6 5 8 7 7 9 8 8 4 8 6 1 4 8 0 9 2 4 6 4 3 8 7 8 9 2 5 9 2 6 5 2 3\n 1 0 8 3 7 7 3 8 6 8 1 6 6 1 6 7 3 3 1 5 2 8 6 7 2 4 6 4 3 1 7 6 3 9 9 6 9\n 1 9 8 0 4 5 3 5 9 5 8 5 6 7 5 4 1 3 1 2 8 4 6 7 0 5 4 1 2 2 8 6 8 0 5 3 0\n 4 5 8 9 8 1 8 8 9 7 3 4 6 6 8 4 2 0 9 3 1 8 6 8 0 9 1 7 7 8 6 0 0 0 2 3 0\n 1 0 6 2 6 6 8 9 3 1 0 7 4 3 9 2 1 5 0 9 4 1 7 1 0 1 1 1 0 6 0 1 9 0 1 0 8\n 4 1 2 0 4 9 8 4 6 1 9 9 8 0 8 3 2 6 0 1 8 9 3 9 4 2 2 6 6 9 8 1 6 7 8 2 3\n 2 4 8 0 0 2 4 4 3 0 6 7 3 4 8 3 3 8 8 2 8 6 5 8 1 1 1 0 3 3 0 2 9 3 7 1 8\n 8 6 9 5 0 7 2 4 3 6 3 8 2 1 4 6 3 9 6 1 6 6 6 3 2 0 9 9 4 4 1 7 8 9 1 1 1\n 6 5 7 3 5 7 0 3 7 5 4 3 0 8 8 8 3 5 8 7 6 7 6 0 3 5 6 5 1 1 7 7 7 4 6 9 2\n 1 6 6 0 7 1 6 8 3 8 5 9 8 4 9 9 2 3 7 2 8 8 9 8 1 5 2 8 0 9 8 2 0 9 8 0 6\n 3 4 9 1 3 0 0 4 0 1 5 8 1 9 4 8 0 3 8 7 7 0 7 2 8 8 5 3 1 0 8 6 1 3 5 6 1\n 3 3 8 4 7 8 1 1 9 1 5 2 6 8 6 3 4 0 4 9 2 8 6 4 2 6 9 4 1 9 5 1 3 1 5 6 8\n 2 1 5 0 5 9 7 9 8 7 8 6 9 0 0 7 4 7 7 6 7 4 5 0 4 2 6 4 4 2 5 8 9 9 1 0 0\n 8 4 9 7 6 7 4 9 6 4 7 8 8 5 5 1 2 7 0 7 2 3 3 1 9 7 3 5 3 2 1 7 9 4 6 1 3\n 6 8 0 2 3 8 0 1 7 8 3 6 0 9 6 3 5 5 7 4 5 5 1 2 1 9 3 4 7 6 7 3 2 8 3 8 1\n 9 0 0 7 0 9 2 6 7 1 3 2 3 1 6 7 9 1 4 4 8 0 3 7 2 4 7 5 9 2 4 6 2 5 4 2 9\n 6 1 0 8 9 1 3 8 7 0 6 9 3 5 3 8 4 2 1 3 9 8 8 4 2 5 9 5 2 3 0 9 8 3 1 0 0\n 3 6 7 7 3 0 3 9 1 8 6 0 7 8 1 8 7 2 0 5 6 1 6 5 6 4 0 3 3 6 7 0 1 0 2 8 7\n 8] [9 9 4 8 6 4 1 9 8 4 4 0 5 5 0 9 7 4 3 6 2 3 1 2 7 7 5 1 8 3 1 9 2 9 4 1 5\n 1 7 8 7 2 5 8 6 0 4 8 2 4 8 4 5 2 1 8 8 7 9 6 8 2 0 5 9 2 7 5 2 1 3 2 1 5\n 5 5 9 7 7 1 3 5 5 7 4 5 9 3 0 1 9 0 7 3 2 2 6 5 3 9 7 6 2 5 3 9 9 8 7 1 4\n 0 8 0 1 2 8 3 3 3 0 0 8 7 1 6 1 1 7 6 5 1 5 6 0 8 9 4 7 3 9 5 5 3 5 3 3 8\n 4 2 5 0 2 3 7 9 7 7 2 3 6 5 2 8 1 6 7 5 8 1 7 5 7 4 2 9 5 8 6 4 1 6 1 3 7\n 0 3 7 4 5 0 1 9 0 2 9 9 8 5 2 8 4 0 1 7 6 6 5 8 5 6 6 9 1 4 6 9 2 8 7 9 3\n 4 1 9 3 5 0 8 2 8 1 6 6 3 8 7 6 6 4 6 3 3 7 9 0 7 9 1 8 8 8 4 0 4 0 9 1 1\n 6 8 2 3 3 3 6 6 7 6 7 5 0 5 0 6 4 2 7 6 5 9 7 3 6 0 6 5 0 2 3 7 4 2 8 6 8\n 1 6 1 5 4 2 5 4 3 8 8 0 3 1 0 1 0 3 6 7 9 9 8 8 3 5 2 0 2 4 7 0 1 8 7 5 1\n 3 0 1 0 6 5 8 7 7 9 8 8 4 8 6 1 4 8 0 9 2 4 6 4 3 8 7 8 9 2 5 9 8 6 5 2 3\n 1 0 8 3 7 7 3 8 6 8 1 6 6 1 6 7 3 3 5 5 7 8 6 7 2 9 2 4 3 1 7 6 3 9 4 6 9\n 1 9 3 8 6 5 3 5 9 5 8 5 6 7 5 4 1 3 1 2 8 4 6 7 0 5 4 1 2 2 6 6 8 5 5 3 0\n 4 5 0 8 8 1 5 8 9 7 3 4 6 6 8 4 2 0 9 3 1 8 6 7 0 7 1 7 7 8 6 0 0 0 2 3 0\n 1 0 6 2 6 6 8 4 3 1 0 7 4 3 9 2 1 5 0 9 4 1 7 1 0 1 1 1 0 6 0 1 9 0 1 0 5\n 4 1 2 0 4 9 8 4 6 1 9 9 8 0 0 3 2 6 0 1 8 7 3 4 4 2 2 6 2 9 8 1 6 7 5 2 3\n 2 4 3 0 0 2 4 4 3 5 6 7 5 4 8 3 3 8 8 2 2 6 5 8 1 7 1 0 3 3 0 2 9 3 7 1 8\n 8 6 4 5 0 7 2 4 3 2 3 8 3 1 4 6 3 9 2 7 6 6 6 3 2 0 9 9 4 4 1 3 5 9 1 1 1\n 6 5 3 3 5 7 0 3 7 3 4 3 0 8 8 8 3 5 8 7 6 7 6 0 3 5 6 3 1 1 7 7 7 4 6 9 2\n 1 6 6 0 2 1 6 7 3 5 3 9 2 4 3 9 2 3 7 2 8 8 9 8 1 5 2 8 6 9 8 2 0 9 8 0 6\n 3 4 9 1 3 0 0 4 0 5 5 0 1 9 4 5 0 3 8 7 7 0 7 2 5 8 5 3 1 0 8 6 1 3 6 6 1\n 3 3 8 4 7 3 1 7 9 1 5 2 6 8 5 2 4 0 4 4 3 2 6 4 2 2 9 4 1 9 5 3 8 1 5 2 8\n 2 1 5 0 5 9 7 9 8 7 8 6 9 0 0 9 4 7 7 6 7 4 5 0 4 2 6 4 4 2 5 8 9 9 1 0 0\n 8 4 9 7 6 7 4 4 6 4 7 8 4 5 5 1 2 7 0 7 2 3 2 1 9 7 3 5 3 2 1 9 9 4 5 1 3\n 6 2 0 2 3 9 0 1 7 8 3 6 0 9 6 3 5 5 7 4 5 5 1 2 1 9 3 4 7 6 7 3 2 8 8 8 1\n 9 0 0 7 0 9 2 6 3 8 3 2 3 1 8 7 9 1 4 4 9 0 1 7 2 4 7 5 4 6 4 5 2 5 4 7 9\n 6 1 0 8 9 1 3 8 9 0 6 9 3 5 3 8 4 2 1 3 9 8 8 4 2 5 9 5 2 3 0 9 5 3 1 0 0\n 3 6 7 7 3 0 3 4 1 8 6 0 7 8 1 8 7 2 0 5 6 1 6 5 6 4 0 3 3 6 7 0 1 0 2 8 7\n 8]\n",
          "output_type": "stream"
        },
        {
          "execution_count": 116,
          "output_type": "execute_result",
          "data": {
            "text/plain": "0.865"
          },
          "metadata": {}
        }
      ],
      "execution_count": null
    },
    {
      "cell_type": "code",
      "source": [
        "test_prediction(0, W1, b1, W2, b2)\n",
        "test_prediction(1, W1, b1, W2, b2)\n",
        "test_prediction(2, W1, b1, W2, b2)\n",
        "test_prediction(3, W1, b1, W2, b2)"
      ],
      "metadata": {
        "trusted": true,
        "execution": {
          "iopub.status.busy": "2024-12-06T08:14:08.278211Z",
          "iopub.execute_input": "2024-12-06T08:14:08.278621Z",
          "iopub.status.idle": "2024-12-06T08:14:08.973008Z",
          "shell.execute_reply.started": "2024-12-06T08:14:08.278575Z",
          "shell.execute_reply": "2024-12-06T08:14:08.971965Z"
        },
        "id": "4V21cgW2EoUC",
        "outputId": "fb7dd5ea-00db-4a94-8549-453b529bd108"
      },
      "outputs": [
        {
          "name": "stdout",
          "text": "Prediction:  [2]\nLabel:  2\n",
          "output_type": "stream"
        },
        {
          "output_type": "display_data",
          "data": {
            "text/plain": "<Figure size 640x480 with 1 Axes>",
            "image/png": "[encoded data removed]"
          },
          "metadata": {}
        },
        {
          "name": "stdout",
          "text": "Prediction:  [0]\nLabel:  0\n",
          "output_type": "stream"
        },
        {
          "output_type": "display_data",
          "data": {
            "text/plain": "<Figure size 640x480 with 1 Axes>",
            "image/png": "[encoded data removed]"
          },
          "metadata": {}
        },
        {
          "name": "stdout",
          "text": "Prediction:  [6]\nLabel:  6\n",
          "output_type": "stream"
        },
        {
          "output_type": "display_data",
          "data": {
            "text/plain": "<Figure size 640x480 with 1 Axes>",
            "image/png": "[encoded data removed]"
          },
          "metadata": {}
        },
        {
          "name": "stdout",
          "text": "Prediction:  [7]\nLabel:  7\n",
          "output_type": "stream"
        },
        {
          "output_type": "display_data",
          "data": {
            "text/plain": "<Figure size 640x480 with 1 Axes>",
            "image/png": "[encoded data removed]"
          },
          "metadata": {}
        }
      ],
      "execution_count": null
    },
    {
      "cell_type": "code",
      "source": [
        "test_prediction(109, W1, b1, W2, b2)"
      ],
      "metadata": {
        "trusted": true,
        "execution": {
          "iopub.status.busy": "2024-12-06T08:14:08.974208Z",
          "iopub.execute_input": "2024-12-06T08:14:08.974648Z",
          "iopub.status.idle": "2024-12-06T08:14:09.242639Z",
          "shell.execute_reply.started": "2024-12-06T08:14:08.97459Z",
          "shell.execute_reply": "2024-12-06T08:14:09.241621Z"
        },
        "id": "-OE23FUXEoUC",
        "outputId": "a92c7123-d7cc-456c-a91b-adff66720419"
      },
      "outputs": [
        {
          "name": "stdout",
          "text": "Prediction:  [7]\nLabel:  7\n",
          "output_type": "stream"
        },
        {
          "output_type": "display_data",
          "data": {
            "text/plain": "<Figure size 640x480 with 1 Axes>",
            "image/png": "[encoded data removed]"
          },
          "metadata": {}
        }
      ],
      "execution_count": null
    }
  ]
}